{
 "cells": [
  {
   "cell_type": "code",
   "execution_count": 1,
   "metadata": {},
   "outputs": [],
   "source": [
    "import os\n",
    "from dotenv import load_dotenv\n",
    "\n",
    "load_dotenv()\n",
    "OPENAI_API_KEY = os.getenv(\"OPENAI_API_KEY\")\n",
    "\n",
    "MODEL = \"gpt-3.5-turbo\"\n",
    "# MODEL = \"mixtral:8x7b\"\n",
    "MODEL = \"llama3\""
   ]
  },
  {
   "cell_type": "code",
   "execution_count": 2,
   "metadata": {},
   "outputs": [],
   "source": [
    "from langchain_openai.chat_models import ChatOpenAI\n",
    "from langchain_community.llms import Ollama\n",
    "\n",
    "# if MODEL.startswith('gpt'):\n",
    "#     model = ChatOpenAI(api_key = OPENAI_API_KEY, model = MODEL)\n",
    "# else:\n",
    "#     model = Ollama(model = MODEL)\n",
    "    \n",
    "# model.invoke(\"Tell me a joke\")"
   ]
  },
  {
   "cell_type": "code",
   "execution_count": 3,
   "metadata": {},
   "outputs": [],
   "source": [
    "import pandas as pd\n",
    "\n",
    "file_path = '../arxiv-metadata-oai-snapshot.json'\n",
    "\n",
    "# Columns to read from the JSON file\n",
    "columns_to_read = ['id','title', 'authors', 'abstract']  # Specify the column names you want to read\n",
    "\n",
    "# Chunk size for reading the file\n",
    "chunk_size = 100 # Adjust the chunk size based on your available memory and file size\n",
    "\n",
    "# Initialize an empty list to store chunks of DataFrames\n",
    "dfs = []\n",
    "\n",
    "# Iterate over chunks of the JSON file and read only the specified columns\n",
    "for chunk in pd.read_json(file_path, lines=True, chunksize=chunk_size, nrows=1000):\n",
    "    chunk = chunk[columns_to_read]\n",
    "    dfs.append(chunk)\n",
    "\n",
    "# Concatenate the list of DataFrames into a single DataFrame\n",
    "df = pd.concat(dfs, ignore_index=True)\n",
    "# file = pd.read_json(\"../arxiv-metadata-oai-snapshot.json\", lines=True)"
   ]
  },
  {
   "cell_type": "code",
   "execution_count": 4,
   "metadata": {},
   "outputs": [],
   "source": [
    "# df.shape"
   ]
  },
  {
   "cell_type": "code",
   "execution_count": 5,
   "metadata": {},
   "outputs": [],
   "source": [
    "# df.head()"
   ]
  },
  {
   "cell_type": "code",
   "execution_count": 6,
   "metadata": {},
   "outputs": [],
   "source": [
    "# df.iloc[1,2]"
   ]
  },
  {
   "cell_type": "code",
   "execution_count": 7,
   "metadata": {},
   "outputs": [],
   "source": [
    "import json\n",
    "\n",
    "# Number of records to read\n",
    "num_records = 1000  # Specify the number of records you want to read\n",
    "\n",
    "# Initialize an empty list to store the extracted records\n",
    "records = []\n",
    "\n",
    "# Open the JSON file and read records\n",
    "with open(file_path, 'r', encoding='utf-8') as f:\n",
    "    for line in f:\n",
    "        # Load each line as a JSON object\n",
    "        record = json.loads(line)\n",
    "        \n",
    "        # Extract only the specified columns\n",
    "        extracted_record = {key: record[key] for key in columns_to_read}\n",
    "        \n",
    "        # Append the extracted record to the list\n",
    "        records.append(extracted_record)\n",
    "        \n",
    "        # Check if the desired number of records has been reached\n",
    "        if len(records) >= num_records:\n",
    "            break"
   ]
  },
  {
   "cell_type": "code",
   "execution_count": 8,
   "metadata": {},
   "outputs": [
    {
     "data": {
      "text/html": [
       "<div>\n",
       "<style scoped>\n",
       "    .dataframe tbody tr th:only-of-type {\n",
       "        vertical-align: middle;\n",
       "    }\n",
       "\n",
       "    .dataframe tbody tr th {\n",
       "        vertical-align: top;\n",
       "    }\n",
       "\n",
       "    .dataframe thead th {\n",
       "        text-align: right;\n",
       "    }\n",
       "</style>\n",
       "<table border=\"1\" class=\"dataframe\">\n",
       "  <thead>\n",
       "    <tr style=\"text-align: right;\">\n",
       "      <th></th>\n",
       "      <th>id</th>\n",
       "      <th>title</th>\n",
       "      <th>authors</th>\n",
       "      <th>abstract</th>\n",
       "    </tr>\n",
       "  </thead>\n",
       "  <tbody>\n",
       "    <tr>\n",
       "      <th>0</th>\n",
       "      <td>0704.0001</td>\n",
       "      <td>Calculation of prompt diphoton production cros...</td>\n",
       "      <td>C. Bal\\'azs, E. L. Berger, P. M. Nadolsky, C.-...</td>\n",
       "      <td>A fully differential calculation in perturba...</td>\n",
       "    </tr>\n",
       "    <tr>\n",
       "      <th>1</th>\n",
       "      <td>0704.0002</td>\n",
       "      <td>Sparsity-certifying Graph Decompositions</td>\n",
       "      <td>Ileana Streinu and Louis Theran</td>\n",
       "      <td>We describe a new algorithm, the $(k,\\ell)$-...</td>\n",
       "    </tr>\n",
       "    <tr>\n",
       "      <th>2</th>\n",
       "      <td>0704.0003</td>\n",
       "      <td>The evolution of the Earth-Moon system based o...</td>\n",
       "      <td>Hongjun Pan</td>\n",
       "      <td>The evolution of Earth-Moon system is descri...</td>\n",
       "    </tr>\n",
       "    <tr>\n",
       "      <th>3</th>\n",
       "      <td>0704.0004</td>\n",
       "      <td>A determinant of Stirling cycle numbers counts...</td>\n",
       "      <td>David Callan</td>\n",
       "      <td>We show that a determinant of Stirling cycle...</td>\n",
       "    </tr>\n",
       "    <tr>\n",
       "      <th>4</th>\n",
       "      <td>0704.0005</td>\n",
       "      <td>From dyadic $\\Lambda_{\\alpha}$ to $\\Lambda_{\\a...</td>\n",
       "      <td>Wael Abu-Shammala and Alberto Torchinsky</td>\n",
       "      <td>In this paper we show how to compute the $\\L...</td>\n",
       "    </tr>\n",
       "  </tbody>\n",
       "</table>\n",
       "</div>"
      ],
      "text/plain": [
       "          id                                              title  \\\n",
       "0  0704.0001  Calculation of prompt diphoton production cros...   \n",
       "1  0704.0002           Sparsity-certifying Graph Decompositions   \n",
       "2  0704.0003  The evolution of the Earth-Moon system based o...   \n",
       "3  0704.0004  A determinant of Stirling cycle numbers counts...   \n",
       "4  0704.0005  From dyadic $\\Lambda_{\\alpha}$ to $\\Lambda_{\\a...   \n",
       "\n",
       "                                             authors  \\\n",
       "0  C. Bal\\'azs, E. L. Berger, P. M. Nadolsky, C.-...   \n",
       "1                    Ileana Streinu and Louis Theran   \n",
       "2                                        Hongjun Pan   \n",
       "3                                       David Callan   \n",
       "4           Wael Abu-Shammala and Alberto Torchinsky   \n",
       "\n",
       "                                            abstract  \n",
       "0    A fully differential calculation in perturba...  \n",
       "1    We describe a new algorithm, the $(k,\\ell)$-...  \n",
       "2    The evolution of Earth-Moon system is descri...  \n",
       "3    We show that a determinant of Stirling cycle...  \n",
       "4    In this paper we show how to compute the $\\L...  "
      ]
     },
     "execution_count": 8,
     "metadata": {},
     "output_type": "execute_result"
    }
   ],
   "source": [
    "df = pd.DataFrame(records)\n",
    "df = df.replace(r'\\n', ' ', regex=True)\n",
    "df.head()"
   ]
  },
  {
   "cell_type": "code",
   "execution_count": 9,
   "metadata": {},
   "outputs": [
    {
     "data": {
      "text/plain": [
       "0                                            Calculation of prompt diphoton production cross sections at Tevatron and   LHC energies\n",
       "1                                                                                           Sparsity-certifying Graph Decompositions\n",
       "2                                                The evolution of the Earth-Moon system based on the dark matter field   fluid model\n",
       "3                                          A determinant of Stirling cycle numbers counts unlabeled acyclic   single-source automata\n",
       "4                                                                               From dyadic $\\Lambda_{\\alpha}$ to $\\Lambda_{\\alpha}$\n",
       "5                                                                         Bosonic characters of atomic Cooper pairs across resonance\n",
       "6                                                                                  Polymer Quantum Mechanics and its Continuum Limit\n",
       "7                                                 Numerical solution of shock and ramp compression for general material   properties\n",
       "8     The Spitzer c2d Survey of Large, Nearby, Insterstellar Clouds. IX. The   Serpens YSO Population As Observed With IRAC and MIPS\n",
       "9                                                                    Partial cubes: structures, characterizations, and constructions\n",
       "10                     Computing genus 2 Hilbert-Siegel modular forms over $\\Q(\\sqrt{5})$ via   the Jacquet-Langlands correspondence\n",
       "11                           Distribution of integral Fourier Coefficients of a Modular Form of Half   Integral Weight Modulo Primes\n",
       "12                                                      $p$-adic Limit of Weakly Holomorphic Modular Forms of Half Integral   Weight\n",
       "13                                                                                            Iterated integral and the loop product\n",
       "14                                                                Fermionic superstring loop amplitudes in the pure spinor formalism\n",
       "15                                                                                                Lifetime of doubly charmed baryons\n",
       "16                                                    Spectroscopic Observations of the Intermediate Polar EX Hydrae in   Quiescence\n",
       "17                                                                                   In quest of a generalized Callias index theorem\n",
       "18                                    Approximation for extinction probability of the contact process based on   the Gr\\\"obner basis\n",
       "19                                                                Measurement of the Hadronic Form Factor in D0 --> K- e+ nue Decays\n",
       "20                                                   Molecular Synchronization Waves in Arrays of Allosterically Regulated   Enzymes\n",
       "21                                                                                                  Stochastic Lie group integrators\n",
       "22                                                                                 ALMA as the ideal probe of the solar chromosphere\n",
       "23                                                     Formation of quasi-solitons in transverse confined ferromagnetic film   media\n",
       "24                    Spectroscopic Properties of Polarons in Strongly Correlated Systems by   Exact Diagrammatic Monte Carlo Method\n",
       "Name: title, dtype: object"
      ]
     },
     "execution_count": 9,
     "metadata": {},
     "output_type": "execute_result"
    }
   ],
   "source": [
    "pd.set_option('display.max_colwidth', None)\n",
    "df['title'].head(25)"
   ]
  },
  {
   "cell_type": "code",
   "execution_count": 10,
   "metadata": {},
   "outputs": [
    {
     "data": {
      "text/plain": [
       "(1000, 4)"
      ]
     },
     "execution_count": 10,
     "metadata": {},
     "output_type": "execute_result"
    }
   ],
   "source": [
    "df.shape"
   ]
  },
  {
   "cell_type": "code",
   "execution_count": 11,
   "metadata": {},
   "outputs": [],
   "source": [
    "from langchain.embeddings import FakeEmbeddings\n",
    "from langchain_openai import OpenAIEmbeddings\n",
    "\n",
    "fake_embeddings = FakeEmbeddings(size=1536)\n",
    "fake_embeddings = OpenAIEmbeddings()\n",
    "\n",
    "fake_embeddings_list = []\n",
    "for abstract in df['abstract']:\n",
    "    fake_embeddings_list.append(fake_embeddings.embed_query(abstract))"
   ]
  },
  {
   "cell_type": "code",
   "execution_count": null,
   "metadata": {},
   "outputs": [],
   "source": []
  },
  {
   "cell_type": "code",
   "execution_count": 12,
   "metadata": {},
   "outputs": [
    {
     "data": {
      "text/plain": [
       "[-0.019489128751307233,\n",
       " 0.007486256538949653,\n",
       " -0.021519534961965334,\n",
       " -0.016367553313181165,\n",
       " 0.0020338583907193804,\n",
       " 0.024461551402097298,\n",
       " -0.016008435317192957,\n",
       " -0.02182340503845662,\n",
       " -0.052320925290386094,\n",
       " -0.01647805287746542,\n",
       " 0.019793000690443728,\n",
       " 0.024779232992801513,\n",
       " -0.02839805088227111,\n",
       " 0.004216198941131173,\n",
       " -3.9845196959817e-05]"
      ]
     },
     "execution_count": 12,
     "metadata": {},
     "output_type": "execute_result"
    }
   ],
   "source": [
    "fake_embeddings_list[0][:15]"
   ]
  },
  {
   "cell_type": "code",
   "execution_count": 13,
   "metadata": {},
   "outputs": [],
   "source": [
    "import numpy as np\n",
    "fake_embeddings_list = np.array(fake_embeddings_list).astype(\"float32\")"
   ]
  },
  {
   "cell_type": "code",
   "execution_count": 14,
   "metadata": {},
   "outputs": [],
   "source": [
    "import faiss\n",
    "\n",
    "index = faiss.IndexFlatL2(1536)\n",
    "index.add(fake_embeddings_list)"
   ]
  },
  {
   "cell_type": "code",
   "execution_count": 15,
   "metadata": {},
   "outputs": [],
   "source": [
    "test_sample = fake_embeddings.embed_query(\"biology, plant, species\")\n",
    "test_sample = np.array([test_sample]).astype(\"float32\")"
   ]
  },
  {
   "cell_type": "code",
   "execution_count": 16,
   "metadata": {},
   "outputs": [],
   "source": [
    "k = 5\n",
    "distances, indices = index.search(test_sample, k)"
   ]
  },
  {
   "cell_type": "code",
   "execution_count": 17,
   "metadata": {},
   "outputs": [
    {
     "data": {
      "text/plain": [
       "array([[303,  33, 321, 511, 831]], dtype=int64)"
      ]
     },
     "execution_count": 17,
     "metadata": {},
     "output_type": "execute_result"
    }
   ],
   "source": [
    "indices"
   ]
  },
  {
   "cell_type": "code",
   "execution_count": 18,
   "metadata": {},
   "outputs": [
    {
     "data": {
      "text/plain": [
       "array([[['The World as Evolving Information',\n",
       "         '  This paper discusses the benefits of describing the world as information, especially in the study of the evolution of life and cognition. Traditional studies encounter problems because it is difficult to describe life and cognition in terms of matter and energy, since their laws are valid only at the physical scale. However, if matter and energy, as well as life and cognition, are described in terms of information, evolution can be described consistently as information becoming more complex.   The paper presents eight tentative laws of information, valid at multiple scales, which are generalizations of Darwinian, cybernetic, thermodynamic, psychological, philosophical, and complexity principles. These are further used to discuss the notions of life, cognition and their evolution. '],\n",
       "        ['Origin of adaptive mutants: a quantum measurement?',\n",
       "         '  This is a supplement to the paper arXiv:q-bio/0701050, containing the text of correspondence sent to Nature in 1990. '],\n",
       "        ['Emergence of spatiotemporal chaos driven by far-field breakup of spiral   waves in the plankton ecological systems',\n",
       "         '  Alexander B. Medvinsky \\\\emph{et al} [A. B. Medvinsky, I. A. Tikhonova, R. R. Aliev, B.-L. Li, Z.-S. Lin, and H. Malchow, Phys. Rev. E \\\\textbf{64}, 021915 (2001)] and Marcus R. Garvie \\\\emph{et al} [M. R. Garvie and C. Trenchea, SIAM J. Control. Optim. \\\\textbf{46}, 775-791 (2007)] shown that the minimal spatially extended reaction-diffusion model of phytoplankton-zooplankton can exhibit both regular, chaotic behavior, and spatiotemporal patterns in a patchy environment. Based on that, the spatial plankton model is furtherly investigated by means of computer simulations and theoretical analysis in the present paper when its parameters would be expected in the case of mixed Turing-Hopf bifurcation region. Our results show that the spiral waves exist in that region and the spatiotemporal chaos emerge, which arise from the far-field breakup of the spiral waves over large ranges of diffusion coefficients of phytoplankton and zooplankton. Moreover, the spatiotemporal chaos arising from the far-field breakup of spiral waves does not gradually involve the whole space within that region. Our results are confirmed by means of computation spectra and nonlinear bifurcation of wave trains. Finally, we give some explanations about the spatially structured patterns from the community level. '],\n",
       "        ['Stable oscillations of a predator-prey probabilistic cellular automaton:   a mean-field approach',\n",
       "         '  We analyze a probabilistic cellular automaton describing the dynamics of coexistence of a predator-prey system. The individuals of each species are localized over the sites of a lattice and the local stochastic updating rules are inspired on the processes of the Lotka-Volterra model. Two levels of mean-field approximations are set up. The simple approximation is equivalent to an extended patch model, a simple metapopulation model with patches colonized by prey, patches colonized by predators and empty patches. This approximation is capable of describing the limited available space for species occupancy. The pair approximation is moreover able to describe two types of coexistence of prey and predators: one where population densities are constant in time and another displaying self-sustained time-oscillations of the population densities. The oscillations are associated with limit cycles and arise through a Hopf bifurcation. They are stable against changes in the initial conditions and, in this sense, they differ from the Lotka-Volterra cycles which depend on initial conditions. In this respect, the present model is biologically more realistic than the Lotka-Volterra model. '],\n",
       "        ['Terrestrial and Habitable Planet Formation in Binary and Multi-star   Systems',\n",
       "         '  One of the most surprising discoveries of extrasolar planets is the detection of planets in moderately close binary star systems. The Jovian-type planets in the two binaries of Gamma Cephei and GJ 86 have brought to the forefront questions on the formation of giant planets and the possibility of the existence of smaller bodies in such dynamically complex environments. The diverse dynamical characteristics of these objects have made scientists wonder to what extent the current theories of planet formation can be applied to binaries and multiple star systems. At present, the sensitivity of the detection techniques does not allow routine discovery of Earth-sized bodies in binary systems. However, with the advancement of new techniques, and with the recent launch of CoRoT and the launch of Kepler in late 2008, the detection of more planets (possibly terrestrial-class objects) in such systems is on the horizon. Theoretical studies and numerical modeling of terrestrial and habitable planet formation are, therefore, necessary to gain fundamental insights into the prospects for life in such systems and have great strategic impact on NASA science and missions. ']]],\n",
       "      dtype=object)"
      ]
     },
     "execution_count": 18,
     "metadata": {},
     "output_type": "execute_result"
    }
   ],
   "source": [
    "np.array(df[['title', 'abstract']])[indices]"
   ]
  },
  {
   "cell_type": "code",
   "execution_count": 19,
   "metadata": {},
   "outputs": [],
   "source": [
    "faiss.write_index(index, 'abstractIndex.index')"
   ]
  },
  {
   "cell_type": "code",
   "execution_count": 20,
   "metadata": {},
   "outputs": [],
   "source": [
    "df.to_csv(\"ThousandCornellAbstracts.csv\")"
   ]
  },
  {
   "cell_type": "code",
   "execution_count": null,
   "metadata": {},
   "outputs": [],
   "source": []
  }
 ],
 "metadata": {
  "kernelspec": {
   "display_name": "Python 3",
   "language": "python",
   "name": "python3"
  },
  "language_info": {
   "codemirror_mode": {
    "name": "ipython",
    "version": 3
   },
   "file_extension": ".py",
   "mimetype": "text/x-python",
   "name": "python",
   "nbconvert_exporter": "python",
   "pygments_lexer": "ipython3",
   "version": "3.12.3"
  }
 },
 "nbformat": 4,
 "nbformat_minor": 2
}
